{
 "cells": [
  {
   "cell_type": "code",
   "execution_count": null,
   "metadata": {},
   "outputs": [],
   "source": [
    "# !pip install opencv-python\n",
    "# !apt update && apt install -y libsm6 libxext6\n",
    "# !apt-get install -y libxrender-dev\n",
    "# !pip install scikit-image\n",
    "# !pip install keras\n",
    "# !pip install tensorflow\n",
    "# !pip install scikit-learn\n",
    "# !pip install pandas\n",
    "# !pip install imgaug"
   ]
  },
  {
   "cell_type": "code",
   "execution_count": 1,
   "metadata": {},
   "outputs": [
    {
     "name": "stdout",
     "output_type": "stream",
     "text": [
      "2.0.0\n"
     ]
    }
   ],
   "source": [
    "import tensorflow as tf\n",
    "print(tf.__version__)"
   ]
  },
  {
   "cell_type": "code",
   "execution_count": 2,
   "metadata": {
    "cellView": "both",
    "colab": {
     "base_uri": "https://localhost:8080/",
     "height": 34
    },
    "colab_type": "code",
    "id": "vELVS7JseEXr",
    "outputId": "d96a36ea-fa2d-4abc-ca23-1b89cf87d171"
   },
   "outputs": [],
   "source": [
    "#@title Importing Libraries\n",
    "import time\n",
    "import os\n",
    "import cv2\n",
    "import numpy as np\n",
    "from skimage import transform as tf\n",
    "import random\n",
    "import glob\n",
    "import tensorflow\n",
    "from tensorflow.keras.applications.inception_v3 import InceptionV3\n",
    "from tensorflow.keras.applications.xception import Xception\n",
    "from tensorflow.keras.applications.mobilenet_v2 import MobileNetV2\n",
    "from tensorflow.keras import optimizers, regularizers\n",
    "from tensorflow.keras.preprocessing.image import ImageDataGenerator\n",
    "from tensorflow.keras.models import Sequential\n",
    "from tensorflow.keras.layers import Conv2D, MaxPooling2D, GlobalAveragePooling2D\n",
    "from tensorflow.keras.layers import Activation, Dropout, Flatten, Dense\n",
    "from tensorflow.keras import backend as K\n",
    "from tensorflow.keras.preprocessing import image\n",
    "from tensorflow.keras.models import Model\n",
    "from sklearn.model_selection import train_test_split\n",
    "from sklearn.cluster import KMeans\n",
    "from sklearn.mixture import GaussianMixture\n",
    "from sklearn.decomposition import PCA\n",
    "from sklearn import preprocessing\n",
    "import pandas as pd\n",
    "import matplotlib.pyplot as plt\n",
    "from tensorflow.keras.models import load_model\n"
   ]
  },
  {
   "cell_type": "code",
   "execution_count": 19,
   "metadata": {
    "colab": {},
    "colab_type": "code",
    "id": "iPwF-9glhK4G"
   },
   "outputs": [],
   "source": [
    "DIR = \"TMimagesCNN/TMImagesCNN/\""
   ]
  },
  {
   "cell_type": "code",
   "execution_count": 8,
   "metadata": {
    "colab": {
     "base_uri": "https://localhost:8080/",
     "height": 34
    },
    "colab_type": "code",
    "id": "89qsdk1rlyK5",
    "outputId": "2ea006a5-f842-4219-b82f-7b64bbe29d8e"
   },
   "outputs": [
    {
     "name": "stdout",
     "output_type": "stream",
     "text": [
      "['D0-Acute', 'D1-Glue ear', 'D2-Safe CSOM', 'D4-Otomycosis', '.ipynb_checkpoints', 'D5-Others', 'D3-Normal Ear']\n"
     ]
    }
   ],
   "source": [
    "diseases = os.listdir(DIR)\n",
    "print(diseases)"
   ]
  },
  {
   "cell_type": "code",
   "execution_count": 9,
   "metadata": {
    "colab": {
     "base_uri": "https://localhost:8080/",
     "height": 54
    },
    "colab_type": "code",
    "id": "0syc-_pdmFC7",
    "outputId": "82e9ac94-e9d4-48d4-c70e-4917664f9861"
   },
   "outputs": [
    {
     "name": "stdout",
     "output_type": "stream",
     "text": [
      "['TMimagesCNN/TMImagesCNN/D0-Acute', 'TMimagesCNN/TMImagesCNN/D1-Glue ear', 'TMimagesCNN/TMImagesCNN/D2-Safe CSOM', 'TMimagesCNN/TMImagesCNN/D4-Otomycosis', 'TMimagesCNN/TMImagesCNN/D5-Others', 'TMimagesCNN/TMImagesCNN/D3-Normal Ear']\n"
     ]
    }
   ],
   "source": [
    "for disease in diseases:\n",
    "        # get a list of subdirectories that start with this character\n",
    "        directory_list = (glob.glob(\"{}/*\".format(DIR, disease)))\n",
    "print(directory_list)"
   ]
  },
  {
   "cell_type": "code",
   "execution_count": 10,
   "metadata": {
    "cellView": "both",
    "colab": {},
    "colab_type": "code",
    "id": "gSsfwZJaeHOs"
   },
   "outputs": [],
   "source": [
    "#@title Dataset Stats\n",
    "def dataset_stats():\n",
    "    \n",
    "    # This is an array with the all the diseases available in the directory.\n",
    "\n",
    "    diseases = os.listdir(DIR)\n",
    "    \n",
    "    # dictionary where we will store the stats\n",
    "    stats = []\n",
    "    \n",
    "    for disease in diseases:\n",
    "        # get a list of subdirectories that start with this character\n",
    "        directory_list = sorted(glob.glob(\"{}/*\".format(DIR, disease)))\n",
    "        \n",
    "    for sub_directory in directory_list:\n",
    "        file_names = [file for file in os.listdir(sub_directory)]\n",
    "        file_count = len(file_names)\n",
    "        sub_directory_name = os.path.basename(sub_directory)\n",
    "        stats.append({ \"Code\": sub_directory_name[:sub_directory_name.find('-')],\n",
    "                        \"Image count\": file_count, \n",
    "                       \"Folder name\": os.path.basename(sub_directory),\n",
    "                        \"File names\": file_names})\n",
    "\n",
    "    \n",
    "    df = pd.DataFrame(stats)\n",
    "    \n",
    "    return df"
   ]
  },
  {
   "cell_type": "code",
   "execution_count": 13,
   "metadata": {
    "colab": {},
    "colab_type": "code",
    "id": "6OKZRLGl8miV"
   },
   "outputs": [],
   "source": [
    "import imgaug.augmenters as iaa\n",
    "class re_data:\n",
    "    \n",
    "    def plot_image(images, captions=None, cmap=None ):\n",
    "        f, axes = plt.subplots(1, len(images), sharey=True)\n",
    "        f.set_figwidth(15)\n",
    "        for ax,image in zip(axes, images):\n",
    "            ax.imshow(image, cmap)\n",
    "            \n",
    "    def flip_image(image):\n",
    "        return np.fliplr(image)\n",
    "    \n",
    "    def shear_image(image):\n",
    "        shift_x, shift_y = image.shape[0]/2, image.shape[1]/2\n",
    "        matrix_to_topleft = tf.SimilarityTransform(translation=[-shift_x, -shift_y])\n",
    "        matrix_to_center = tf.SimilarityTransform(translation=[shift_x, shift_y])\n",
    "        shear_transforms = tf.AffineTransform(shear=np.deg2rad(45))\n",
    "        shear_matrix = matrix_to_topleft + shear_transforms + matrix_to_center\n",
    "        shear_image = tf.warp(image, shear_matrix)\n",
    "        return shear_image\n",
    "        \n",
    "    def Gray_image(image):\n",
    "        gray = cv2.cvtColor(image, cv2.COLOR_BGR2GRAY)\n",
    "        gray=tf.resize(gray,(224,224,3),anti_aliasing=False)\n",
    "        gaussian = cv2.GaussianBlur(gray,(3,3),0)\n",
    "        return gaussian\n",
    "        \n",
    "    def rotate_45(image):\n",
    "        # rotation\n",
    "        shift_x, shift_y = image.shape[0]/2, image.shape[1]/2\n",
    "        matrix_to_topleft = tf.SimilarityTransform(translation=[-shift_x, -shift_y])\n",
    "        matrix_to_center = tf.SimilarityTransform(translation=[shift_x, shift_y])\n",
    "        rot_transforms =  tf.AffineTransform(rotation=np.deg2rad(45))\n",
    "        rot_matrix = matrix_to_topleft + rot_transforms + matrix_to_center\n",
    "        rot_image = tf.warp(image, rot_matrix)\n",
    "        return rot_image\n",
    "        \n",
    "    def Zoom_out(image):\n",
    "        # scaling \n",
    "        shift_x, shift_y = image.shape[0]/2, image.shape[1]/2\n",
    "        matrix_to_topleft = tf.SimilarityTransform(translation=[-shift_x, -shift_y])\n",
    "        matrix_to_center = tf.SimilarityTransform(translation=[shift_x, shift_y])\n",
    "        scale_transforms = tf.AffineTransform(scale=(2, 2))\n",
    "        scale_matrix = matrix_to_topleft + scale_transforms + matrix_to_center\n",
    "        scale_image_zoom_out = tf.warp(image, scale_matrix)\n",
    "        return scale_image_zoom_out\n",
    "        \n",
    "    \n",
    "    def Zoom_in(image):\n",
    "        shift_x, shift_y = image.shape[0]/2, image.shape[1]/2\n",
    "        matrix_to_topleft = tf.SimilarityTransform(translation=[-shift_x, -shift_y])\n",
    "        matrix_to_center = tf.SimilarityTransform(translation=[shift_x, shift_y])\n",
    "        scale_transforms = tf.AffineTransform(scale=(0.5, 0.5))\n",
    "        scale_matrix = matrix_to_topleft + scale_transforms + matrix_to_center\n",
    "        scale_image_zoom_in = tf.warp(image, scale_matrix)\n",
    "        return scale_image_zoom_in\n",
    "        \n",
    "    def Translation(image):\n",
    "        # translation\n",
    "        transaltion_transforms = tf.AffineTransform(translation=(50, 50))\n",
    "        translated_image = tf.warp(image, transaltion_transforms)\n",
    "        return translated_image\n",
    "        \n",
    "    def Contrast(image):\n",
    "        contrast=iaa.GammaContrast(gamma=2.0)\n",
    "        contrast_image =contrast.augment_image(image)\n",
    "        return contrast_image"
   ]
  },
  {
   "cell_type": "code",
   "execution_count": 14,
   "metadata": {
    "colab": {
     "base_uri": "https://localhost:8080/",
     "height": 34
    },
    "colab_type": "code",
    "id": "0cDWNuyPeKAv",
    "outputId": "8799e4fc-0f06-41bd-92e5-1b8e6382f6cc"
   },
   "outputs": [
    {
     "data": {
      "text/plain": [
       "pandas.core.frame.DataFrame"
      ]
     },
     "execution_count": 14,
     "metadata": {},
     "output_type": "execute_result"
    }
   ],
   "source": [
    "# Show codes with their folder names and image counts\n",
    "dataset = dataset_stats().set_index(\"Code\")\n",
    "dataset[[\"Folder name\", \"Image count\"]]\n",
    "type(dataset)"
   ]
  },
  {
   "cell_type": "code",
   "execution_count": 15,
   "metadata": {
    "colab": {
     "base_uri": "https://localhost:8080/",
     "height": 257
    },
    "colab_type": "code",
    "id": "IXWC6MtF-PRA",
    "outputId": "d41f36a2-d070-43c9-d669-fd28fb2936a5"
   },
   "outputs": [
    {
     "data": {
      "text/html": [
       "<div>\n",
       "<style scoped>\n",
       "    .dataframe tbody tr th:only-of-type {\n",
       "        vertical-align: middle;\n",
       "    }\n",
       "\n",
       "    .dataframe tbody tr th {\n",
       "        vertical-align: top;\n",
       "    }\n",
       "\n",
       "    .dataframe thead th {\n",
       "        text-align: right;\n",
       "    }\n",
       "</style>\n",
       "<table border=\"1\" class=\"dataframe\">\n",
       "  <thead>\n",
       "    <tr style=\"text-align: right;\">\n",
       "      <th></th>\n",
       "      <th>Image count</th>\n",
       "      <th>Folder name</th>\n",
       "      <th>File names</th>\n",
       "    </tr>\n",
       "    <tr>\n",
       "      <th>Code</th>\n",
       "      <th></th>\n",
       "      <th></th>\n",
       "      <th></th>\n",
       "    </tr>\n",
       "  </thead>\n",
       "  <tbody>\n",
       "    <tr>\n",
       "      <th>D0</th>\n",
       "      <td>26</td>\n",
       "      <td>D0-Acute</td>\n",
       "      <td>[20180101000119-H0000001.JPG, 20180101000050-H...</td>\n",
       "    </tr>\n",
       "    <tr>\n",
       "      <th>D1</th>\n",
       "      <td>16</td>\n",
       "      <td>D1-Glue ear</td>\n",
       "      <td>[20180101000055-H0000005.JPG, 20180101000141-H...</td>\n",
       "    </tr>\n",
       "    <tr>\n",
       "      <th>D2</th>\n",
       "      <td>56</td>\n",
       "      <td>D2-Safe CSOM</td>\n",
       "      <td>[20180101000121-H0000002.JPG, 20180101000114-H...</td>\n",
       "    </tr>\n",
       "    <tr>\n",
       "      <th>D3</th>\n",
       "      <td>90</td>\n",
       "      <td>D3-Normal Ear</td>\n",
       "      <td>[20180101000143-H0000030.JPG, 20180101000039-H...</td>\n",
       "    </tr>\n",
       "    <tr>\n",
       "      <th>D4</th>\n",
       "      <td>21</td>\n",
       "      <td>D4-Otomycosis</td>\n",
       "      <td>[20180101000040-H0000001.JPG, 20180101000159-H...</td>\n",
       "    </tr>\n",
       "    <tr>\n",
       "      <th>D5</th>\n",
       "      <td>29</td>\n",
       "      <td>D5-Others</td>\n",
       "      <td>[20180101000102-H0000006.JPG, 20180101000058-H...</td>\n",
       "    </tr>\n",
       "  </tbody>\n",
       "</table>\n",
       "</div>"
      ],
      "text/plain": [
       "      Image count    Folder name  \\\n",
       "Code                               \n",
       "D0             26       D0-Acute   \n",
       "D1             16    D1-Glue ear   \n",
       "D2             56   D2-Safe CSOM   \n",
       "D3             90  D3-Normal Ear   \n",
       "D4             21  D4-Otomycosis   \n",
       "D5             29      D5-Others   \n",
       "\n",
       "                                             File names  \n",
       "Code                                                     \n",
       "D0    [20180101000119-H0000001.JPG, 20180101000050-H...  \n",
       "D1    [20180101000055-H0000005.JPG, 20180101000141-H...  \n",
       "D2    [20180101000121-H0000002.JPG, 20180101000114-H...  \n",
       "D3    [20180101000143-H0000030.JPG, 20180101000039-H...  \n",
       "D4    [20180101000040-H0000001.JPG, 20180101000159-H...  \n",
       "D5    [20180101000102-H0000006.JPG, 20180101000058-H...  "
      ]
     },
     "execution_count": 15,
     "metadata": {},
     "output_type": "execute_result"
    }
   ],
   "source": [
    "dataset"
   ]
  },
  {
   "cell_type": "code",
   "execution_count": 16,
   "metadata": {
    "cellView": "both",
    "colab": {},
    "colab_type": "code",
    "id": "OsE5TZkieMZH"
   },
   "outputs": [],
   "source": [
    "#@title Load Images\n",
    "# Function returns an array of images whoose filenames start with a given set of characters\n",
    "# after resizing them to 224 x 224\n",
    "\n",
    "def load_images(codes):\n",
    "    \n",
    "    # Define empty arrays where we will store our images and labels\n",
    "    images = []\n",
    "    labels = []\n",
    "    \n",
    "    for code in codes:\n",
    "        # get the folder name for this code\n",
    "        folder_name = dataset.loc[code][\"Folder name\"]\n",
    "        \n",
    "        for file in dataset.loc[code][\"File names\"]:                 \n",
    "            # build file path\n",
    "            file_path = os.path.join(DIR, folder_name, file)\n",
    "        \n",
    "            # Read the image\n",
    "            image = cv2.imread(file_path)\n",
    "            \n",
    "            # #Removing black regions\n",
    "            # gray = cv2.cvtColor(image, cv2.COLOR_BGR2GRAY)\n",
    "            # mask = gray>100\n",
    "            # image = image[np.ix_(mask.any(1),mask.any(0))]\n",
    "\n",
    "            # Resize it to 224 x 224\n",
    "            # image = cv2.resize(image, (224,224))\n",
    "\n",
    "            #Convert it from BGR to RGB so we can plot them later (because openCV reads images as BGR)\n",
    "            # image = cv2.cvtColor(image, cv2.COLOR_BGR2RGB)\n",
    "\n",
    "            # Now we add it to our array\n",
    "            images.append(image)\n",
    "            labels.append(code)\n",
    "            \n",
    "            #Now save images\n",
    "            # cv2.imwrite(file_path,image)\n",
    "\n",
    "    return images, labels"
   ]
  },
  {
   "cell_type": "code",
   "execution_count": 17,
   "metadata": {
    "colab": {},
    "colab_type": "code",
    "id": "gmNprf7it8vj"
   },
   "outputs": [],
   "source": [
    "def Load_Images_from_folder(folder):\n",
    "    images = []\n",
    "    for filename in os.listdir(folder):\n",
    "        img = cv2.imread(os.path.join(folder,filename))\n",
    "        if img is not None:\n",
    "            images.append(img)\n",
    "\n",
    "    return np.array(images)"
   ]
  },
  {
   "cell_type": "code",
   "execution_count": 21,
   "metadata": {
    "colab": {
     "base_uri": "https://localhost:8080/",
     "height": 34
    },
    "colab_type": "code",
    "id": "FHAc5Q72t-uM",
    "outputId": "45e48444-3cfc-494f-a341-fa6109439425"
   },
   "outputs": [
    {
     "data": {
      "text/plain": [
       "(16, 224, 224, 3)"
      ]
     },
     "execution_count": 21,
     "metadata": {},
     "output_type": "execute_result"
    }
   ],
   "source": [
    "pathfolder = DIR+\"D1-Glue ear\"\n",
    "df= Load_Images_from_folder(pathfolder)\n",
    "# df= np.array([df])\n",
    "df.shape"
   ]
  },
  {
   "cell_type": "code",
   "execution_count": 26,
   "metadata": {
    "colab": {},
    "colab_type": "code",
    "id": "jwfhIhxu4_7C"
   },
   "outputs": [],
   "source": [
    "from matplotlib.image import imsave\n",
    "X_aug=[]\n",
    "y_aug=[]\n",
    "name='aug'\n",
    "path = './Augmented_Images/D1-Glue ear'\n",
    "for i in range(len(df)):\n",
    "        img=df[i]\n",
    "        X_aug.append(img)\n",
    "        imsave(path+name+str(i)+'.jpg', img)\n",
    "        \n",
    "        img_flip = re_data.flip_image(df[i])\n",
    "        X_aug.append(img_flip)\n",
    "        imsave(path+name+'_flip'+str(i)+'.jpg', img_flip)\n",
    "\n",
    "        img_shear=re_data.shear_image(df[i])\n",
    "        X_aug.append(img_shear)\n",
    "        imsave(path+name+'_shear'+str(i)+'.jpg', img_shear)\n",
    "    \n",
    "        gray=re_data.Gray_image(df[i])\n",
    "        X_aug.append(gray)\n",
    "        imsave(path+name+'_gray'+str(i)+'.jpg', gray)\n",
    "    \n",
    "        gray_flip=re_data.Gray_image(img_flip)\n",
    "        X_aug.append(gray_flip)\n",
    "        imsave(path+name+'_gray_flip'+str(i)+'.jpg', gray_flip)\n",
    "    \n",
    "        img_rotate=re_data.rotate_45(df[i])\n",
    "        X_aug.append(img_rotate)\n",
    "        imsave(path + name +'_rotate'+str(i)+'.jpg', img_rotate)\n",
    "    \n",
    "        img_zoom_out=re_data.Zoom_out(df[i])\n",
    "        X_aug.append(img_zoom_out)\n",
    "        imsave(path + name +'_out'+str(i)+'.jpg', img_zoom_out)\n",
    "    \n",
    "        img_zoom_in=re_data.Zoom_in(df[i])\n",
    "        X_aug.append(img_zoom_in)\n",
    "        imsave(path + name +'_in'+str(i)+'.jpg', img_zoom_in)\n",
    "    \n",
    "        img_translation=re_data.Translation(df[i])\n",
    "        X_aug.append(img_translation)\n",
    "        imsave(path + name + '_translation'+str(i)+'.jpg', img_translation)\n",
    "    \n",
    "        img_Contrast=re_data.Contrast(df[i])\n",
    "        X_aug.append(img_Contrast)\n",
    "        imsave(path + name + '_Contrast'+str(i)+'.jpg', img_Contrast)"
   ]
  },
  {
   "cell_type": "code",
   "execution_count": 29,
   "metadata": {
    "colab": {},
    "colab_type": "code",
    "id": "RsUVVDfJT364"
   },
   "outputs": [],
   "source": [
    "DIR = \"./Aug_Images/Aug_Images\""
   ]
  },
  {
   "cell_type": "code",
   "execution_count": 30,
   "metadata": {
    "colab": {
     "base_uri": "https://localhost:8080/",
     "height": 72
    },
    "colab_type": "code",
    "id": "vlQgq7BNUHMe",
    "outputId": "5c98e17e-abbd-4e6d-9ebe-30f88cc2b730"
   },
   "outputs": [
    {
     "name": "stdout",
     "output_type": "stream",
     "text": [
      "['Otomycosis', 'GlueEar', 'NormalEar', 'SafeCSOM', 'Acute', 'Others']\n",
      "['./Aug_Images/Aug_Images/Otomycosis', './Aug_Images/Aug_Images/GlueEar', './Aug_Images/Aug_Images/NormalEar', './Aug_Images/Aug_Images/SafeCSOM', './Aug_Images/Aug_Images/Acute', './Aug_Images/Aug_Images/Others']\n"
     ]
    }
   ],
   "source": [
    "diseases = os.listdir(DIR)\n",
    "print(diseases)\n",
    "for disease in diseases:\n",
    "        # get a list of subdirectories that start with this character\n",
    "        directory_list = (glob.glob(\"{}/*\".format(DIR, disease)))\n",
    "print(directory_list)"
   ]
  },
  {
   "cell_type": "code",
   "execution_count": 31,
   "metadata": {
    "colab": {
     "base_uri": "https://localhost:8080/",
     "height": 257
    },
    "colab_type": "code",
    "id": "yfDNMA5pUVHV",
    "outputId": "f64b56b4-1acc-4ce0-b481-32f763843a46"
   },
   "outputs": [
    {
     "data": {
      "text/html": [
       "<div>\n",
       "<style scoped>\n",
       "    .dataframe tbody tr th:only-of-type {\n",
       "        vertical-align: middle;\n",
       "    }\n",
       "\n",
       "    .dataframe tbody tr th {\n",
       "        vertical-align: top;\n",
       "    }\n",
       "\n",
       "    .dataframe thead th {\n",
       "        text-align: right;\n",
       "    }\n",
       "</style>\n",
       "<table border=\"1\" class=\"dataframe\">\n",
       "  <thead>\n",
       "    <tr style=\"text-align: right;\">\n",
       "      <th></th>\n",
       "      <th>Image count</th>\n",
       "      <th>Folder name</th>\n",
       "      <th>File names</th>\n",
       "    </tr>\n",
       "    <tr>\n",
       "      <th>Code</th>\n",
       "      <th></th>\n",
       "      <th></th>\n",
       "      <th></th>\n",
       "    </tr>\n",
       "  </thead>\n",
       "  <tbody>\n",
       "    <tr>\n",
       "      <th>D0</th>\n",
       "      <td>156</td>\n",
       "      <td>D0-Acute</td>\n",
       "      <td>[aug_flip14.jpg, aug6.jpg, aug8.jpg, aug_rotat...</td>\n",
       "    </tr>\n",
       "    <tr>\n",
       "      <th>D1</th>\n",
       "      <td>160</td>\n",
       "      <td>D1-GlueEar</td>\n",
       "      <td>[aug_flip14.jpg, aug6.jpg, aug8.jpg, aug_gray1...</td>\n",
       "    </tr>\n",
       "    <tr>\n",
       "      <th>D2</th>\n",
       "      <td>168</td>\n",
       "      <td>D2-SafeCSOM</td>\n",
       "      <td>[aug_flip14.jpg, aug6.jpg, aug_shear30.jpg, au...</td>\n",
       "    </tr>\n",
       "    <tr>\n",
       "      <th>D3</th>\n",
       "      <td>180</td>\n",
       "      <td>D3-NormalEar</td>\n",
       "      <td>[aug_flip14.jpg, aug_flip76.jpg, aug6.jpg, aug...</td>\n",
       "    </tr>\n",
       "    <tr>\n",
       "      <th>D4</th>\n",
       "      <td>210</td>\n",
       "      <td>D4-Otomycosis</td>\n",
       "      <td>[aug_flip14.jpg, aug6.jpg, aug8.jpg, aug_gray1...</td>\n",
       "    </tr>\n",
       "    <tr>\n",
       "      <th>D5</th>\n",
       "      <td>174</td>\n",
       "      <td>D5-Others</td>\n",
       "      <td>[aug_flip14.jpg, aug6.jpg, aug8.jpg, aug_rotat...</td>\n",
       "    </tr>\n",
       "  </tbody>\n",
       "</table>\n",
       "</div>"
      ],
      "text/plain": [
       "      Image count    Folder name  \\\n",
       "Code                               \n",
       "D0            156       D0-Acute   \n",
       "D1            160     D1-GlueEar   \n",
       "D2            168    D2-SafeCSOM   \n",
       "D3            180   D3-NormalEar   \n",
       "D4            210  D4-Otomycosis   \n",
       "D5            174      D5-Others   \n",
       "\n",
       "                                             File names  \n",
       "Code                                                     \n",
       "D0    [aug_flip14.jpg, aug6.jpg, aug8.jpg, aug_rotat...  \n",
       "D1    [aug_flip14.jpg, aug6.jpg, aug8.jpg, aug_gray1...  \n",
       "D2    [aug_flip14.jpg, aug6.jpg, aug_shear30.jpg, au...  \n",
       "D3    [aug_flip14.jpg, aug_flip76.jpg, aug6.jpg, aug...  \n",
       "D4    [aug_flip14.jpg, aug6.jpg, aug8.jpg, aug_gray1...  \n",
       "D5    [aug_flip14.jpg, aug6.jpg, aug8.jpg, aug_rotat...  "
      ]
     },
     "execution_count": 31,
     "metadata": {},
     "output_type": "execute_result"
    }
   ],
   "source": [
    "# Show codes with their folder names and image counts\n",
    "dataset = dataset_stats().set_index(\"Code\")\n",
    "dataset[[\"Folder name\", \"Image count\"]]\n",
    "type(dataset)\n",
    "dataset"
   ]
  },
  {
   "cell_type": "markdown",
   "metadata": {
    "colab_type": "text",
    "id": "igL2wkDdVCKi"
   },
   "source": [
    "## Loading Images through Image Data Generator"
   ]
  },
  {
   "cell_type": "code",
   "execution_count": 80,
   "metadata": {
    "colab": {
     "base_uri": "https://localhost:8080/",
     "height": 52
    },
    "colab_type": "code",
    "id": "xSUzG7pzVAH5",
    "outputId": "ea93131f-3f6c-4ec6-8da2-eb46cf3560ee"
   },
   "outputs": [
    {
     "name": "stdout",
     "output_type": "stream",
     "text": [
      "Found 1048 images belonging to 6 classes.\n",
      "Found 203 images belonging to 6 classes.\n",
      "Found 3 images belonging to 6 classes.\n"
     ]
    }
   ],
   "source": [
    "from tensorflow.keras.preprocessing.image import ImageDataGenerator\n",
    "datagen = ImageDataGenerator()\n",
    "...\n",
    "# load and iterate training dataset\n",
    "train_it = datagen.flow_from_directory('./Aug_Images/Aug_Images', class_mode='categorical',target_size=(224,224),shuffle=False)\n",
    "# load and iterate validation dataset\n",
    "val_it = datagen.flow_from_directory('./TMimagesCNN/TM imagesCNN', class_mode='categorical',target_size=(224,224),shuffle=False)\n",
    "# load and iterate test dataset\n",
    "test_it = datagen.flow_from_directory('./test', class_mode='categorical',target_size=(224,224), shuffle=False)"
   ]
  },
  {
   "cell_type": "markdown",
   "metadata": {
    "colab_type": "text",
    "id": "XEdwX4neVi5w"
   },
   "source": [
    "## Loading model"
   ]
  },
  {
   "cell_type": "code",
   "execution_count": 49,
   "metadata": {
    "colab": {},
    "colab_type": "code",
    "id": "Z5T4lbVGwYAC"
   },
   "outputs": [],
   "source": [
    "from tensorflow.keras.applications.xception import Xception\n",
    "from tensorflow.keras.applications.mobilenet_v2 import MobileNetV2\n",
    "from tensorflow.keras.applications import InceptionResNetV2\n",
    "from tensorflow.keras.applications import ResNet50\n",
    "from tensorflow.keras.optimizers import Adagrad\n"
   ]
  },
  {
   "cell_type": "code",
   "execution_count": 69,
   "metadata": {
    "colab": {},
    "colab_type": "code",
    "id": "DPwp8RbUejSb"
   },
   "outputs": [],
   "source": [
    "# create the base pre-trained model\n",
    "base_model = InceptionResNetV2(weights='imagenet', include_top=False, input_shape=(224,224,3))\n",
    "\n",
    "# add a global spatial average pooling layer\n",
    "x = base_model.output\n",
    "x = GlobalAveragePooling2D()(x)\n",
    "x = Dropout(0.2)(x)\n",
    "# let's add a fully-connected layer\n",
    "x = Dense(1024, activation='relu')(x)\n",
    "# x = Dropout(0.1)(x)\n",
    "x = Dense(512, activation = 'relu')(x)\n",
    "x = Dense(256, activation = 'relu')(x)\n",
    "x = Dropout(0.3)(x)\n",
    "x = Dense(64, activation='tanh')(x)\n",
    "# and a logistic layer -- we have 6 classes\n",
    "predictions = Dense(6, activation='softmax')(x)\n",
    "\n",
    "# this is the model we will train\n",
    "model = Model(inputs=base_model.input, outputs=predictions)\n",
    "\n",
    "# first: train only the top layers (which were randomly initialized)\n",
    "# i.e. freeze all convolutional InceptionResnetV2 layers\n",
    "for layer in base_model.layers:\n",
    "    layer.trainable = False\n",
    "\n",
    "# compile the model (should be done *after* setting layers to non-trainable)\n",
    "# opt = Adagrad()\n",
    "model.compile(optimizer='adagrad', loss='kullback_leibler_divergence', metrics=['accuracy'])\n",
    "\n",
    "img_width, img_height = 224, 224\n",
    "\n",
    "\n"
   ]
  },
  {
   "cell_type": "code",
   "execution_count": 70,
   "metadata": {
    "colab": {
     "base_uri": "https://localhost:8080/",
     "height": 550
    },
    "colab_type": "code",
    "id": "20QC5ydYm1nw",
    "outputId": "afd9e114-895f-4e5c-e13b-531f0f0a5ca5"
   },
   "outputs": [
    {
     "name": "stdout",
     "output_type": "stream",
     "text": [
      "Epoch 1/35\n",
      "33/33 [==============================] - 22s 662ms/step - loss: 2.3842 - accuracy: 0.1250 - val_loss: 2.0398 - val_accuracy: 0.1502\n",
      "Epoch 2/35\n",
      "33/33 [==============================] - 22s 663ms/step - loss: 1.8978 - accuracy: 0.1823 - val_loss: 1.8950 - val_accuracy: 0.2347\n",
      "Epoch 3/35\n",
      "33/33 [==============================] - 22s 656ms/step - loss: 1.8659 - accuracy: 0.2156 - val_loss: 1.7739 - val_accuracy: 0.1362\n",
      "Epoch 4/35\n",
      "33/33 [==============================] - 23s 706ms/step - loss: 1.8485 - accuracy: 0.1002 - val_loss: 1.7742 - val_accuracy: 0.1362\n",
      "Epoch 5/35\n",
      "33/33 [==============================] - 22s 663ms/step - loss: 1.8455 - accuracy: 0.1469 - val_loss: 1.7747 - val_accuracy: 0.1362\n",
      "Epoch 6/35\n",
      "33/33 [==============================] - 22s 659ms/step - loss: 1.8275 - accuracy: 0.1469 - val_loss: 1.7750 - val_accuracy: 0.1362\n",
      "Epoch 7/35\n",
      "33/33 [==============================] - 22s 654ms/step - loss: 1.8142 - accuracy: 0.1803 - val_loss: 1.7584 - val_accuracy: 0.1362\n",
      "Epoch 8/35\n",
      "33/33 [==============================] - 22s 663ms/step - loss: 1.8006 - accuracy: 0.1698 - val_loss: 1.6807 - val_accuracy: 0.4225\n",
      "Epoch 9/35\n",
      "33/33 [==============================] - 21s 650ms/step - loss: 1.8009 - accuracy: 0.2137 - val_loss: 1.7299 - val_accuracy: 0.4225\n",
      "Epoch 10/35\n",
      "33/33 [==============================] - 22s 656ms/step - loss: 1.7992 - accuracy: 0.1947 - val_loss: 1.7579 - val_accuracy: 0.4225\n",
      "Epoch 11/35\n",
      "33/33 [==============================] - 22s 658ms/step - loss: 1.7855 - accuracy: 0.2109 - val_loss: 1.7303 - val_accuracy: 0.4225\n",
      "Epoch 12/35\n",
      "33/33 [==============================] - 22s 658ms/step - loss: 1.7851 - accuracy: 0.2061 - val_loss: 1.7277 - val_accuracy: 0.4225\n",
      "Epoch 13/35\n",
      "33/33 [==============================] - 24s 713ms/step - loss: 1.7862 - accuracy: 0.2347 - val_loss: 1.7293 - val_accuracy: 0.4225\n",
      "Epoch 14/35\n",
      "33/33 [==============================] - 22s 658ms/step - loss: 1.7781 - accuracy: 0.2366 - val_loss: 1.7298 - val_accuracy: 0.4225\n",
      "Epoch 15/35\n",
      "33/33 [==============================] - 22s 659ms/step - loss: 1.7709 - accuracy: 0.1966 - val_loss: 1.7268 - val_accuracy: 0.4225\n",
      "Epoch 16/35\n",
      "33/33 [==============================] - 22s 656ms/step - loss: 1.7675 - accuracy: 0.2405 - val_loss: 1.7493 - val_accuracy: 0.4225\n",
      "Epoch 17/35\n",
      "33/33 [==============================] - 22s 665ms/step - loss: 1.7559 - accuracy: 0.2529 - val_loss: 1.8331 - val_accuracy: 0.4225\n",
      "Epoch 18/35\n",
      "33/33 [==============================] - 22s 659ms/step - loss: 1.7650 - accuracy: 0.2128 - val_loss: 1.7448 - val_accuracy: 0.4225\n",
      "Epoch 19/35\n",
      "33/33 [==============================] - 22s 659ms/step - loss: 1.7607 - accuracy: 0.2452 - val_loss: 1.7499 - val_accuracy: 0.4225\n",
      "Epoch 20/35\n",
      "33/33 [==============================] - 22s 662ms/step - loss: 1.7434 - accuracy: 0.2510 - val_loss: 1.7440 - val_accuracy: 0.4225\n",
      "Epoch 21/35\n",
      "33/33 [==============================] - 22s 671ms/step - loss: 1.7547 - accuracy: 0.2357 - val_loss: 1.7555 - val_accuracy: 0.4225\n",
      "Epoch 22/35\n",
      "33/33 [==============================] - 23s 708ms/step - loss: 1.7450 - accuracy: 0.2471 - val_loss: 1.7503 - val_accuracy: 0.4225\n",
      "Epoch 23/35\n",
      "33/33 [==============================] - 22s 653ms/step - loss: 1.7402 - accuracy: 0.2700 - val_loss: 1.7502 - val_accuracy: 0.4225\n",
      "Epoch 24/35\n",
      "33/33 [==============================] - 22s 660ms/step - loss: 1.7410 - accuracy: 0.2548 - val_loss: 1.7316 - val_accuracy: 0.4225\n",
      "Epoch 25/35\n",
      "33/33 [==============================] - 22s 658ms/step - loss: 1.7360 - accuracy: 0.2710 - val_loss: 1.7335 - val_accuracy: 0.4225\n",
      "Epoch 26/35\n",
      "33/33 [==============================] - 22s 664ms/step - loss: 1.7407 - accuracy: 0.2567 - val_loss: 1.7260 - val_accuracy: 0.4225\n",
      "Epoch 27/35\n",
      "33/33 [==============================] - 22s 668ms/step - loss: 1.7262 - accuracy: 0.2901 - val_loss: 1.7575 - val_accuracy: 0.4225\n",
      "Epoch 28/35\n",
      "33/33 [==============================] - 22s 658ms/step - loss: 1.7268 - accuracy: 0.2910 - val_loss: 1.7521 - val_accuracy: 0.4225\n",
      "Epoch 29/35\n",
      "33/33 [==============================] - 22s 658ms/step - loss: 1.7163 - accuracy: 0.3063 - val_loss: 1.7674 - val_accuracy: 0.4225\n",
      "Epoch 30/35\n",
      "33/33 [==============================] - 22s 652ms/step - loss: 1.7128 - accuracy: 0.2939 - val_loss: 1.7965 - val_accuracy: 0.4225\n",
      "Epoch 31/35\n",
      "33/33 [==============================] - 23s 709ms/step - loss: 1.7169 - accuracy: 0.3302 - val_loss: 1.7456 - val_accuracy: 0.4225\n",
      "Epoch 32/35\n",
      "33/33 [==============================] - 22s 665ms/step - loss: 1.7096 - accuracy: 0.3053 - val_loss: 1.7534 - val_accuracy: 0.4225\n",
      "Epoch 33/35\n",
      "33/33 [==============================] - 22s 659ms/step - loss: 1.7059 - accuracy: 0.3120 - val_loss: 1.7874 - val_accuracy: 0.4225\n",
      "Epoch 34/35\n",
      "33/33 [==============================] - 22s 659ms/step - loss: 1.7023 - accuracy: 0.3683 - val_loss: 1.7537 - val_accuracy: 0.4225\n",
      "Epoch 35/35\n",
      "33/33 [==============================] - 22s 659ms/step - loss: 1.6960 - accuracy: 0.3187 - val_loss: 1.7542 - val_accuracy: 0.4225\n"
     ]
    }
   ],
   "source": [
    "# train the model on the new data for a few epochs\n",
    "historyA = model.fit_generator(train_it, epochs=35,\n",
    "                    initial_epoch=0, validation_data=val_it)"
   ]
  },
  {
   "cell_type": "code",
   "execution_count": 74,
   "metadata": {
    "colab": {
     "base_uri": "https://localhost:8080/",
     "height": 52
    },
    "colab_type": "code",
    "id": "RkXLqy3CKtqc",
    "outputId": "33fd330b-7b90-446c-b9d6-bb7d87acc7e3"
   },
   "outputs": [
    {
     "name": "stdout",
     "output_type": "stream",
     "text": [
      "7/7 [==============================] - 3s 434ms/step - loss: 1.7542 - accuracy: 0.4225\n"
     ]
    },
    {
     "data": {
      "text/plain": [
       "[1.7542106253760201, 0.4225352]"
      ]
     },
     "execution_count": 74,
     "metadata": {},
     "output_type": "execute_result"
    }
   ],
   "source": [
    "accA = model.evaluate_generator(val_it, workers=1, use_multiprocessing=True, verbose=1)\n",
    "accA"
   ]
  },
  {
   "cell_type": "code",
   "execution_count": 76,
   "metadata": {},
   "outputs": [],
   "source": [
    "model.save(\"./my_model.h5\")"
   ]
  },
  {
   "cell_type": "code",
   "execution_count": 73,
   "metadata": {
    "colab": {
     "base_uri": "https://localhost:8080/",
     "height": 153
    },
    "colab_type": "code",
    "id": "5FRkVZWntyCk",
    "outputId": "ac142eb8-d135-4168-fbba-c6884847f94e"
   },
   "outputs": [
    {
     "ename": "NameError",
     "evalue": "name 'X_test' is not defined",
     "output_type": "error",
     "traceback": [
      "\u001b[0;31m---------------------------------------------------------------------------\u001b[0m",
      "\u001b[0;31mNameError\u001b[0m                                 Traceback (most recent call last)",
      "\u001b[0;32m<ipython-input-73-cdbaa81e790c>\u001b[0m in \u001b[0;36m<module>\u001b[0;34m\u001b[0m\n\u001b[1;32m      1\u001b[0m \u001b[0;31m# Predicting the Test set results\u001b[0m\u001b[0;34m\u001b[0m\u001b[0;34m\u001b[0m\u001b[0;34m\u001b[0m\u001b[0m\n\u001b[0;32m----> 2\u001b[0;31m \u001b[0my_pred\u001b[0m \u001b[0;34m=\u001b[0m \u001b[0mmodel\u001b[0m\u001b[0;34m.\u001b[0m\u001b[0mpredict\u001b[0m\u001b[0;34m(\u001b[0m\u001b[0mX_test\u001b[0m\u001b[0;34m)\u001b[0m\u001b[0;34m\u001b[0m\u001b[0;34m\u001b[0m\u001b[0m\n\u001b[0m\u001b[1;32m      3\u001b[0m \u001b[0my_pred_a\u001b[0m \u001b[0;34m=\u001b[0m \u001b[0;34m(\u001b[0m\u001b[0my_pred\u001b[0m \u001b[0;34m>\u001b[0m \u001b[0;36m0.5\u001b[0m\u001b[0;34m)\u001b[0m\u001b[0;34m\u001b[0m\u001b[0;34m\u001b[0m\u001b[0m\n\u001b[1;32m      4\u001b[0m \u001b[0;34m\u001b[0m\u001b[0m\n\u001b[1;32m      5\u001b[0m \u001b[0;31m# Making the Confusion Matrix\u001b[0m\u001b[0;34m\u001b[0m\u001b[0;34m\u001b[0m\u001b[0;34m\u001b[0m\u001b[0m\n",
      "\u001b[0;31mNameError\u001b[0m: name 'X_test' is not defined"
     ]
    }
   ],
   "source": [
    " # Predicting the Test set results\n",
    "y_pred = model.predict(X_test)\n",
    "y_pred_a = (y_pred > 0.5)\n",
    "\n",
    "# Making the Confusion Matrix\n",
    "from sklearn.metrics import confusion_matrix\n",
    "confusion_matrix(y_test.argmax(axis=1), y_pred_a.argmax(axis=1))"
   ]
  },
  {
   "cell_type": "code",
   "execution_count": 77,
   "metadata": {
    "colab": {
     "base_uri": "https://localhost:8080/",
     "height": 591
    },
    "colab_type": "code",
    "id": "MNQwWWlFUTwz",
    "outputId": "a2453671-fb60-43f7-8bd8-cbe81c300063"
   },
   "outputs": [
    {
     "name": "stdout",
     "output_type": "stream",
     "text": [
      "dict_keys(['loss', 'accuracy', 'val_loss', 'val_accuracy'])\n"
     ]
    },
    {
     "data": {
      "image/png": "[encoded data removed]",
      "text/plain": [
       "<Figure size 432x288 with 1 Axes>"
      ]
     },
     "metadata": {
      "needs_background": "light"
     },
     "output_type": "display_data"
    },
    {
     "data": {
      "image/png": "[encoded data removed]",
      "text/plain": [
       "<Figure size 432x288 with 1 Axes>"
      ]
     },
     "metadata": {
      "needs_background": "light"
     },
     "output_type": "display_data"
    }
   ],
   "source": [
    "print(historyA.history.keys())\n",
    "#  \"Accuracy\"\n",
    "plt.plot(historyA.history['accuracy'])\n",
    "plt.plot(historyA.history['val_accuracy'])\n",
    "plt.title('model accuracy')\n",
    "plt.ylabel('accuracy')\n",
    "plt.xlabel('epoch')\n",
    "plt.legend(['train', 'validation'], loc='upper left')\n",
    "plt.show()\n",
    "# \"Loss\"\n",
    "plt.plot(historyA.history['loss'])\n",
    "plt.plot(historyA.history['val_loss'])\n",
    "plt.title('model loss')\n",
    "plt.ylabel('loss')\n",
    "plt.xlabel('epoch')\n",
    "plt.legend(['train', 'validation'], loc='upper left')\n",
    "plt.show()"
   ]
  },
  {
   "cell_type": "code",
   "execution_count": null,
   "metadata": {
    "colab": {
     "base_uri": "https://localhost:8080/",
     "height": 1000
    },
    "colab_type": "code",
    "id": "L0C3XW0ven11",
    "outputId": "5d308517-4f0e-496f-f52f-b54d0e77df3f"
   },
   "outputs": [],
   "source": [
    "# at this point, the top layers are well trained and we can start fine-tuning\n",
    "# convolutional layers from inception V3. We will freeze the bottom N layers\n",
    "# and train the remaining top layers.\n",
    "\n",
    "# let's visualize layer names and layer indices to see how many layers\n",
    "# we should freeze:\n",
    "for i, layer in enumerate(base_model.layers):\n",
    "   print(i, layer.name)"
   ]
  },
  {
   "cell_type": "code",
   "execution_count": 81,
   "metadata": {
    "colab": {
     "base_uri": "https://localhost:8080/",
     "height": 285
    },
    "colab_type": "code",
    "id": "GXI-3APNer7b",
    "outputId": "e80c97bb-a5b9-4895-b1b9-8bd7660aa2fb"
   },
   "outputs": [
    {
     "name": "stdout",
     "output_type": "stream",
     "text": [
      "Epoch 1/10\n",
      "33/33 [==============================] - 23s 703ms/step - loss: 1.8161 - accuracy: 0.1632 - val_loss: 1.7105 - val_accuracy: 0.0936\n",
      "Epoch 2/10\n",
      "33/33 [==============================] - 23s 688ms/step - loss: 1.7464 - accuracy: 0.2595 - val_loss: 1.6793 - val_accuracy: 0.0936\n",
      "Epoch 3/10\n",
      "33/33 [==============================] - 25s 752ms/step - loss: 1.6758 - accuracy: 0.2538 - val_loss: 1.6775 - val_accuracy: 0.4433\n",
      "Epoch 4/10\n",
      "33/33 [==============================] - 23s 692ms/step - loss: 1.6102 - accuracy: 0.2882 - val_loss: 1.6764 - val_accuracy: 0.4433\n",
      "Epoch 5/10\n",
      "33/33 [==============================] - 23s 696ms/step - loss: 1.5415 - accuracy: 0.3740 - val_loss: 1.6763 - val_accuracy: 0.4433\n",
      "Epoch 6/10\n",
      "33/33 [==============================] - 23s 693ms/step - loss: 1.4628 - accuracy: 0.4094 - val_loss: 1.6766 - val_accuracy: 0.4433\n",
      "Epoch 7/10\n",
      "33/33 [==============================] - 23s 700ms/step - loss: 1.3845 - accuracy: 0.4370 - val_loss: 1.6763 - val_accuracy: 0.4433\n",
      "Epoch 8/10\n",
      "33/33 [==============================] - 23s 698ms/step - loss: 1.3151 - accuracy: 0.4618 - val_loss: 1.6763 - val_accuracy: 0.4433\n",
      "Epoch 9/10\n",
      "33/33 [==============================] - 23s 692ms/step - loss: 1.2127 - accuracy: 0.5105 - val_loss: 1.6768 - val_accuracy: 0.4433\n",
      "Epoch 10/10\n",
      "33/33 [==============================] - 23s 698ms/step - loss: 1.1334 - accuracy: 0.5000 - val_loss: 1.6768 - val_accuracy: 0.4433\n"
     ]
    }
   ],
   "source": [
    "# we chose to train the top 2 inception blocks, i.e. we will freeze\n",
    "# the first 249 layers and unfreeze the rest:\n",
    "for layer in model.layers[:700]:\n",
    "   layer.trainable = False\n",
    "for layer in model.layers[700:]:\n",
    "   layer.trainable = True\n",
    "\n",
    "# we need to recompile the model for these modifications to take effect\n",
    "# we use SGD with a low learning rate\n",
    "from tensorflow.keras.optimizers import SGD\n",
    "model.compile(optimizer='adagrad', loss='kullback_leibler_divergence', metrics=['accuracy'])\n",
    "\n",
    "# we train our model again (this time fine-tuning the top 2 inception blocks\n",
    "# alongside the top Dense layers\n",
    "historyB = model.fit_generator(train_it, epochs=10,\n",
    "                    initial_epoch=0, validation_data=val_it)"
   ]
  },
  {
   "cell_type": "code",
   "execution_count": 91,
   "metadata": {
    "colab": {
     "base_uri": "https://localhost:8080/",
     "height": 34
    },
    "colab_type": "code",
    "id": "WUE1mDETewED",
    "outputId": "cb1f52a2-ebf2-4708-b274-0bd8c5946ea2"
   },
   "outputs": [
    {
     "name": "stdout",
     "output_type": "stream",
     "text": [
      "5/5 [==============================] - 1s 296ms/step - loss: 1.7665 - accuracy: 0.5437\n"
     ]
    }
   ],
   "source": [
    "# this is a generator for test data\n",
    "# test_generator = test_datagen.flow(X_test, y_test)\n",
    "\n",
    "# let's test our model\n",
    "accB = model.evaluate_generator(val_it, steps=5,  max_queue_size=10, workers=1, use_multiprocessing=False, verbose=1)"
   ]
  },
  {
   "cell_type": "code",
   "execution_count": 92,
   "metadata": {
    "colab": {
     "base_uri": "https://localhost:8080/",
     "height": 34
    },
    "colab_type": "code",
    "id": "A6g09MdRKxgP",
    "outputId": "6df956fa-7a4b-4487-f847-42747c3978c9"
   },
   "outputs": [
    {
     "data": {
      "text/plain": [
       "[1.7664937257766724, 0.54375]"
      ]
     },
     "execution_count": 92,
     "metadata": {},
     "output_type": "execute_result"
    }
   ],
   "source": [
    "model.save(\"IneptionResnetV2.h5\")\n",
    "accB"
   ]
  },
  {
   "cell_type": "code",
   "execution_count": null,
   "metadata": {
    "colab": {
     "base_uri": "https://localhost:8080/",
     "height": 153
    },
    "colab_type": "code",
    "id": "jGVASFIYhT1p",
    "outputId": "5dc1bdb2-d424-422b-edef-2ec63198a943"
   },
   "outputs": [],
   "source": [
    " # Predicting the Test set results\n",
    "y_pred = model.predict(X_test)\n",
    "y_pred_a = (y_pred > 0.5)\n",
    "\n",
    "# Making the Confusion Matrix\n",
    "from sklearn.metrics import confusion_matrix\n",
    "confusion_matrix(y_test.argmax(axis=1), y_pred_a.argmax(axis=1))"
   ]
  },
  {
   "cell_type": "code",
   "execution_count": 93,
   "metadata": {
    "colab": {
     "base_uri": "https://localhost:8080/",
     "height": 232
    },
    "colab_type": "code",
    "id": "Htue_WHN7rv7",
    "outputId": "6b23d6cf-15d6-425b-e362-c8434973ded9"
   },
   "outputs": [
    {
     "name": "stdout",
     "output_type": "stream",
     "text": [
      "dict_keys(['loss', 'accuracy', 'val_loss', 'val_accuracy'])\n"
     ]
    },
    {
     "data": {
      "image/png": "[encoded data removed]",
      "text/plain": [
       "<Figure size 432x288 with 1 Axes>"
      ]
     },
     "metadata": {
      "needs_background": "light"
     },
     "output_type": "display_data"
    },
    {
     "data": {
      "image/png": "[encoded data removed]",
      "text/plain": [
       "<Figure size 432x288 with 1 Axes>"
      ]
     },
     "metadata": {
      "needs_background": "light"
     },
     "output_type": "display_data"
    }
   ],
   "source": [
    "print(historyB.history.keys())\n",
    "#  \"Accuracy\"\n",
    "plt.plot(historyB.history['accuracy'])\n",
    "plt.plot(historyB.history['val_accuracy'])\n",
    "plt.title('model accuracy')\n",
    "plt.ylabel('accuracy')\n",
    "plt.xlabel('epoch')\n",
    "plt.legend(['train', 'validation'], loc='upper left')\n",
    "plt.show()\n",
    "# \"Loss\"\n",
    "plt.plot(historyB.history['loss'])\n",
    "plt.plot(historyB.history['val_loss'])\n",
    "plt.title('model loss')\n",
    "plt.ylabel('loss')\n",
    "plt.xlabel('epoch')\n",
    "plt.legend(['train', 'validation'], loc='upper left')\n",
    "plt.show()"
   ]
  },
  {
   "cell_type": "code",
   "execution_count": null,
   "metadata": {},
   "outputs": [],
   "source": []
  }
 ],
 "metadata": {
  "accelerator": "GPU",
  "colab": {
   "collapsed_sections": [],
   "name": "Copy of MobileNetV2_Otology.ipynb",
   "provenance": [],
   "toc_visible": true
  },
  "kernelspec": {
   "display_name": "Python 3",
   "language": "python",
   "name": "python3"
  },
  "language_info": {
   "codemirror_mode": {
    "name": "ipython",
    "version": 3
   },
   "file_extension": ".py",
   "mimetype": "text/x-python",
   "name": "python",
   "nbconvert_exporter": "python",
   "pygments_lexer": "ipython3",
   "version": "3.6.9"
  }
 },
 "nbformat": 4,
 "nbformat_minor": 4
}
